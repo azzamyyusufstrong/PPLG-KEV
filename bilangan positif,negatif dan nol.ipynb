{
  "nbformat": 4,
  "nbformat_minor": 0,
  "metadata": {
    "colab": {
      "provenance": [],
      "authorship_tag": "ABX9TyODH93Em/JfGqR48AlH3dGm",
      "include_colab_link": true
    },
    "kernelspec": {
      "name": "python3",
      "display_name": "Python 3"
    },
    "language_info": {
      "name": "python"
    }
  },
  "cells": [
    {
      "cell_type": "markdown",
      "metadata": {
        "id": "view-in-github",
        "colab_type": "text"
      },
      "source": [
        "<a href=\"https://colab.research.google.com/github/azzamyyusufstrong/PPLG-KEV/blob/main/bilangan%20positif%2Cnegatif%20dan%20nol.ipynb\" target=\"_parent\"><img src=\"https://colab.research.google.com/assets/colab-badge.svg\" alt=\"Open In Colab\"/></a>"
      ]
    },
    {
      "cell_type": "markdown",
      "source": [
        "1.buatlah sebuah program untuk menentukan bilangan positif, negatif dan nol."
      ],
      "metadata": {
        "id": "yLgmaJlzNqPa"
      }
    },
    {
      "cell_type": "code",
      "source": [
        "#menginput angka\n",
        "bilangan = float(input(\"tulis sebuah angka\"))\n",
        "#menampilkan bilangan positif\n",
        "if bilangan > 0:\n",
        "    print(\" bilangan positif.\")\n",
        "#menampilkan bilangan negatif\n",
        "elif bilangan < 0:\n",
        "    print(\" bilangan negatif.\")\n",
        "#menampilkan bilangan 0\n",
        "else:\n",
        "    print(\"Bilangan ini adalah nol.\")"
      ],
      "metadata": {
        "colab": {
          "base_uri": "https://localhost:8080/"
        },
        "id": "PzSrEAl2Nt6w",
        "outputId": "afb92f4c-087c-4d28-da0b-d90234af8162"
      },
      "execution_count": 4,
      "outputs": [
        {
          "output_type": "stream",
          "name": "stdout",
          "text": [
            "tulis sebuah angka2\n",
            " bilangan positif.\n"
          ]
        }
      ]
    },
    {
      "cell_type": "markdown",
      "source": [
        "1. sedikit penjelasan tentang kodingan di atas\n",
        "Bilangan Positif: Ini adalah bilangan yang lebih besar dari 0. Misalnya, 1, 2, 3, dan seterusnya. Mereka adalah angka yang lebih besar dari \"tidak ada\" atau \"kosong\".\n",
        "\n",
        "2. Bilangan Negatif: Ini adalah bilangan yang lebih kecil dari 0. Contohnya -1, -2, -3, dan seterusnya. Mereka adalah angka yang kurang dari \"tidak ada\" atau \"kosong\".\n",
        "\n",
        "3. Nol: Ini adalah angka 0. Ini adalah titik tengah di antara bilangan positif dan negatif. Itu artinya tidak lebih dari 0 dan tidak kurang dari 0.\n",
        "\n",
        "Jadi, jika Anda memiliki sebuah bilangan, Anda bisa menggunakannya untuk menentukan apakah itu positif (lebih besar dari 0), negatif (lebih kecil dari 0), atau nol (angka 0 itu sendiri).\n",
        "\n"
      ],
      "metadata": {
        "id": "v8K0VfDYRr1B"
      }
    }
  ]
}